{
  "nbformat": 4,
  "nbformat_minor": 0,
  "metadata": {
    "colab": {
      "provenance": []
    },
    "kernelspec": {
      "name": "python3",
      "display_name": "Python 3"
    },
    "language_info": {
      "name": "python"
    }
  },
  "cells": [
    {
      "cell_type": "code",
      "execution_count": null,
      "metadata": {
        "colab": {
          "base_uri": "https://localhost:8080/"
        },
        "id": "5v9oeRkvtSOg",
        "outputId": "9617ffec-4d05-4896-bbe9-9e582fc9c1e4"
      },
      "outputs": [
        {
          "output_type": "stream",
          "name": "stdout",
          "text": [
            "Requirement already satisfied: kaggle in /usr/local/lib/python3.10/dist-packages (1.6.17)\n",
            "Requirement already satisfied: six>=1.10 in /usr/local/lib/python3.10/dist-packages (from kaggle) (1.16.0)\n",
            "Requirement already satisfied: certifi>=2023.7.22 in /usr/local/lib/python3.10/dist-packages (from kaggle) (2024.7.4)\n",
            "Requirement already satisfied: python-dateutil in /usr/local/lib/python3.10/dist-packages (from kaggle) (2.8.2)\n",
            "Requirement already satisfied: requests in /usr/local/lib/python3.10/dist-packages (from kaggle) (2.31.0)\n",
            "Requirement already satisfied: tqdm in /usr/local/lib/python3.10/dist-packages (from kaggle) (4.66.4)\n",
            "Requirement already satisfied: python-slugify in /usr/local/lib/python3.10/dist-packages (from kaggle) (8.0.4)\n",
            "Requirement already satisfied: urllib3 in /usr/local/lib/python3.10/dist-packages (from kaggle) (2.0.7)\n",
            "Requirement already satisfied: bleach in /usr/local/lib/python3.10/dist-packages (from kaggle) (6.1.0)\n",
            "Requirement already satisfied: webencodings in /usr/local/lib/python3.10/dist-packages (from bleach->kaggle) (0.5.1)\n",
            "Requirement already satisfied: text-unidecode>=1.3 in /usr/local/lib/python3.10/dist-packages (from python-slugify->kaggle) (1.3)\n",
            "Requirement already satisfied: charset-normalizer<4,>=2 in /usr/local/lib/python3.10/dist-packages (from requests->kaggle) (3.3.2)\n",
            "Requirement already satisfied: idna<4,>=2.5 in /usr/local/lib/python3.10/dist-packages (from requests->kaggle) (3.7)\n"
          ]
        }
      ],
      "source": [
        "!pip install kaggle"
      ]
    },
    {
      "cell_type": "code",
      "source": [
        "# configuring the path of Kaggle.json file\n",
        "!mkdir -p ~/.kaggle\n",
        "!cp kaggle.json ~/.kaggle/\n",
        "!chmod 600 ~/.kaggle/kaggle.json"
      ],
      "metadata": {
        "id": "vKK6Y2CRtaS_"
      },
      "execution_count": null,
      "outputs": []
    },
    {
      "cell_type": "code",
      "source": [
        "!kaggle datasets download -d ash2703/handsignimages"
      ],
      "metadata": {
        "colab": {
          "base_uri": "https://localhost:8080/"
        },
        "id": "jny9zSdOtcaH",
        "outputId": "33398271-05fd-45ff-9bc2-2b430989075b"
      },
      "execution_count": null,
      "outputs": [
        {
          "output_type": "stream",
          "name": "stdout",
          "text": [
            "Dataset URL: https://www.kaggle.com/datasets/ash2703/handsignimages\n",
            "License(s): DbCL-1.0\n",
            "Downloading handsignimages.zip to /content\n",
            " 95% 22.0M/23.1M [00:00<00:00, 119MB/s] \n",
            "100% 23.1M/23.1M [00:00<00:00, 117MB/s]\n"
          ]
        }
      ]
    },
    {
      "cell_type": "code",
      "source": [
        "# extracting the compessed Dataset\n",
        "from zipfile import ZipFile\n",
        "dataset = '/content/handsignimages.zip'\n",
        "\n",
        "with ZipFile(dataset,'r') as zip:\n",
        "  zip.extractall()\n",
        "  print('The dataset is extracted')"
      ],
      "metadata": {
        "colab": {
          "base_uri": "https://localhost:8080/"
        },
        "id": "3LzJXhnbu2sA",
        "outputId": "13106e0b-12f0-4d08-eb80-40a1ef62ae0d"
      },
      "execution_count": null,
      "outputs": [
        {
          "output_type": "stream",
          "name": "stdout",
          "text": [
            "The dataset is extracted\n"
          ]
        }
      ]
    },
    {
      "cell_type": "code",
      "source": [
        "import os\n",
        "import numpy as np\n",
        "import matplotlib.pyplot as plt\n",
        "import cv2\n",
        "from PIL import Image\n",
        "import tensorflow as tf\n",
        "from google.colab.patches import cv2_imshow\n",
        "from tensorflow import keras\n",
        "from keras import layers\n",
        "from sklearn.model_selection import train_test_split"
      ],
      "metadata": {
        "id": "Bapd5F1rvFgB"
      },
      "execution_count": null,
      "outputs": []
    },
    {
      "cell_type": "code",
      "source": [
        "from tensorflow.keras.preprocessing.image import ImageDataGenerator\n",
        "# Define paths\n",
        "dataset_path = '/content/Train'\n",
        "image_size = (28, 28)\n",
        "batch_size = 32\n",
        "\n",
        "# Create an ImageDataGenerator instance for data augmentation and normalization\n",
        "datagen = ImageDataGenerator(\n",
        "    rescale=1./255,  # Normalize pixel values between 0 and 1\n",
        "    validation_split=0.2  # Use 20% of the data for validation\n",
        ")\n",
        "\n",
        "# Load training data\n",
        "train_generator = datagen.flow_from_directory(\n",
        "    directory=dataset_path,\n",
        "    target_size=image_size,\n",
        "    batch_size=batch_size,\n",
        "    class_mode='categorical',  # For multi-class classification\n",
        "    subset='training'  # Use subset for training data\n",
        ")\n",
        "\n",
        "# Load validation data\n",
        "validation_generator = datagen.flow_from_directory(\n",
        "    directory=dataset_path,\n",
        "    target_size=image_size,\n",
        "    batch_size=batch_size,\n",
        "    class_mode='categorical',  # For multi-class classification\n",
        "    subset='validation'  # Use subset for validation data\n",
        ")\n",
        "\n",
        "# Check the class labels\n",
        "class_labels = train_generator.class_indices\n",
        "print(\"Class labels:\", class_labels)\n",
        "\n",
        "# Function to display some images\n",
        "def display_images(generator, num_images=5):\n",
        "    plt.figure(figsize=(10, 10))\n",
        "    for i in range(num_images):\n",
        "        img, label = next(generator)\n",
        "        plt.subplot(1, num_images, i + 1)\n",
        "        plt.imshow(img[0])\n",
        "        plt.title(np.argmax(label[0]))\n",
        "        plt.axis('off')\n",
        "    plt.show()\n",
        "\n",
        "# Display some training images\n",
        "display_images(train_generator)"
      ],
      "metadata": {
        "colab": {
          "base_uri": "https://localhost:8080/",
          "height": 264
        },
        "id": "rMWH2WqvvTIG",
        "outputId": "d152f2a6-42f4-4e00-8458-dac2147d7573"
      },
      "execution_count": null,
      "outputs": [
        {
          "output_type": "stream",
          "name": "stdout",
          "text": [
            "Found 21974 images belonging to 24 classes.\n",
            "Found 5481 images belonging to 24 classes.\n",
            "Class labels: {'A': 0, 'B': 1, 'C': 2, 'D': 3, 'E': 4, 'F': 5, 'G': 6, 'H': 7, 'I': 8, 'K': 9, 'L': 10, 'M': 11, 'N': 12, 'O': 13, 'P': 14, 'Q': 15, 'R': 16, 'S': 17, 'T': 18, 'U': 19, 'V': 20, 'W': 21, 'X': 22, 'Y': 23}\n"
          ]
        },
        {
          "output_type": "display_data",
          "data": {
            "text/plain": [
              "<Figure size 1000x1000 with 5 Axes>"
            ],
            "image/png": "[encoded data removed]"
          },
          "metadata": {}
        }
      ]
    },
    {
      "cell_type": "code",
      "source": [
        "for images, labels in train_generator:\n",
        "  print(images.shape)\n",
        "  print(labels.shape)\n",
        "  break"
      ],
      "metadata": {
        "colab": {
          "base_uri": "https://localhost:8080/"
        },
        "id": "tq6uMqStxL9o",
        "outputId": "814695f9-e362-4e3b-ae36-0394d06289f1"
      },
      "execution_count": null,
      "outputs": [
        {
          "output_type": "stream",
          "name": "stdout",
          "text": [
            "(32, 28, 28, 3)\n",
            "(32, 24)\n"
          ]
        }
      ]
    },
    {
      "cell_type": "code",
      "source": [
        "model = tf.keras.Sequential()\n",
        "\n",
        "model.add(layers.Conv2D(32, (3,3), activation = 'relu', input_shape = (28, 28, 3)))\n",
        "model.add(layers.BatchNormalization())\n",
        "model.add(layers.MaxPooling2D((2,2)))\n",
        "\n",
        "model.add(layers.Conv2D(64, (3,3), activation = 'relu'))\n",
        "model.add(layers.BatchNormalization())\n",
        "model.add(layers.MaxPooling2D((2,2)))\n",
        "\n",
        "model.add(layers.Flatten())\n",
        "\n",
        "model.add(layers.Dense(64, activation = 'relu'))\n",
        "model.add(layers.BatchNormalization())\n",
        "model.add(layers.Dropout(0.2))\n",
        "\n",
        "model.add(layers.Dense(24, activation = 'softmax'))"
      ],
      "metadata": {
        "id": "rAZzFUEexsK3"
      },
      "execution_count": null,
      "outputs": []
    },
    {
      "cell_type": "code",
      "source": [
        "model.compile(optimizer = 'adam',\n",
        "              loss = 'categorical_crossentropy',\n",
        "              metrics = ['accuracy'])"
      ],
      "metadata": {
        "id": "MiABMRTCyhD3"
      },
      "execution_count": null,
      "outputs": []
    },
    {
      "cell_type": "code",
      "source": [
        "history = model.fit(train_generator, epochs = 10, validation_data = validation_generator)"
      ],
      "metadata": {
        "colab": {
          "base_uri": "https://localhost:8080/"
        },
        "id": "Ljjj8ybayslV",
        "outputId": "7975e4ce-2ca5-4c06-e230-c317bf0d2bdd"
      },
      "execution_count": null,
      "outputs": [
        {
          "output_type": "stream",
          "name": "stdout",
          "text": [
            "Epoch 1/10\n",
            "687/687 [==============================] - 54s 75ms/step - loss: 0.3879 - accuracy: 0.9107 - val_loss: 0.0417 - val_accuracy: 0.9998\n",
            "Epoch 2/10\n",
            "687/687 [==============================] - 44s 63ms/step - loss: 0.0139 - accuracy: 0.9997 - val_loss: 0.0028 - val_accuracy: 1.0000\n",
            "Epoch 3/10\n",
            "687/687 [==============================] - 44s 63ms/step - loss: 0.0059 - accuracy: 0.9999 - val_loss: 0.0062 - val_accuracy: 0.9998\n",
            "Epoch 4/10\n",
            "687/687 [==============================] - 44s 64ms/step - loss: 0.0315 - accuracy: 0.9927 - val_loss: 0.0031 - val_accuracy: 0.9996\n",
            "Epoch 5/10\n",
            "687/687 [==============================] - 43s 63ms/step - loss: 0.0025 - accuracy: 0.9999 - val_loss: 3.6675e-04 - val_accuracy: 1.0000\n",
            "Epoch 6/10\n",
            "687/687 [==============================] - 43s 63ms/step - loss: 8.4450e-04 - accuracy: 1.0000 - val_loss: 8.6057e-05 - val_accuracy: 1.0000\n",
            "Epoch 7/10\n",
            "687/687 [==============================] - 49s 71ms/step - loss: 5.0859e-04 - accuracy: 1.0000 - val_loss: 4.4715e-05 - val_accuracy: 1.0000\n",
            "Epoch 8/10\n",
            "687/687 [==============================] - 43s 63ms/step - loss: 3.7150e-04 - accuracy: 1.0000 - val_loss: 0.0158 - val_accuracy: 0.9958\n",
            "Epoch 9/10\n",
            "687/687 [==============================] - 43s 63ms/step - loss: 0.0355 - accuracy: 0.9888 - val_loss: 0.0017 - val_accuracy: 0.9998\n",
            "Epoch 10/10\n",
            "687/687 [==============================] - 42s 61ms/step - loss: 0.0022 - accuracy: 0.9997 - val_loss: 4.6606e-04 - val_accuracy: 0.9998\n"
          ]
        }
      ]
    },
    {
      "cell_type": "code",
      "source": [
        "plt.plot(history.history['accuracy'])\n",
        "plt.plot(history.history['val_accuracy'])\n",
        "plt.title('Model Accuracy')\n",
        "plt.xlabel('Epoch')\n",
        "plt.ylabel('Accuracy')\n",
        "\n",
        "plt.plot(history.history['loss'])\n",
        "plt.plot(history.history['val_loss'])\n",
        "plt.title('Model Loss')\n",
        "plt.xlabel('Epoch')\n",
        "plt.ylabel('Loss')\n",
        "\n",
        "plt.show()"
      ],
      "metadata": {
        "colab": {
          "base_uri": "https://localhost:8080/",
          "height": 472
        },
        "id": "W4WLpVMRyztN",
        "outputId": "4b8ab6ec-55e6-404f-f421-ea0b2641f1fc"
      },
      "execution_count": null,
      "outputs": [
        {
          "output_type": "display_data",
          "data": {
            "text/plain": [
              "<Figure size 640x480 with 1 Axes>"
            ],
            "image/png": "[encoded data removed]"
          },
          "metadata": {}
        }
      ]
    },
    {
      "cell_type": "markdown",
      "source": [
        "**Testing on the test data set**"
      ],
      "metadata": {
        "id": "1RW-u0111CdF"
      }
    },
    {
      "cell_type": "code",
      "source": [
        "test_data_path = '/content/Test'\n",
        "\n",
        "test_datagen = ImageDataGenerator(rescale = 1./255)\n",
        "\n",
        "# load the test data\n",
        "test_generator = test_datagen.flow_from_directory(\n",
        "    directory = test_data_path,\n",
        "    target_size = image_size,\n",
        "    batch_size = batch_size,\n",
        "    class_mode = 'categorical', # for multiclass classification\n",
        "    shuffle = False # to maintain the order of the images\n",
        ")"
      ],
      "metadata": {
        "colab": {
          "base_uri": "https://localhost:8080/"
        },
        "id": "uiiOqZWV0_lx",
        "outputId": "2ec74b1a-576d-4203-f3f7-841f5d2bb74c"
      },
      "execution_count": null,
      "outputs": [
        {
          "output_type": "stream",
          "name": "stdout",
          "text": [
            "Found 7172 images belonging to 24 classes.\n"
          ]
        }
      ]
    },
    {
      "cell_type": "code",
      "source": [
        "# evaluwate the model on test data\n",
        "test_loss, test_accuracy = model.evaluate(test_generator)\n",
        "print(test_loss)\n",
        "print(test_accuracy)"
      ],
      "metadata": {
        "colab": {
          "base_uri": "https://localhost:8080/"
        },
        "id": "x2-SBkQJ1qx2",
        "outputId": "945261f0-2527-47ca-a3c0-e2f00c20e71f"
      },
      "execution_count": null,
      "outputs": [
        {
          "output_type": "stream",
          "name": "stdout",
          "text": [
            "225/225 [==============================] - 9s 37ms/step - loss: 0.2257 - accuracy: 0.9477\n",
            "0.22573229670524597\n",
            "0.947713315486908\n"
          ]
        }
      ]
    },
    {
      "cell_type": "code",
      "source": [
        "# generate predictions\n",
        "predictions = model.predict(test_generator, verbose = 1)\n",
        "\n",
        "# get the class labels from the generator\n",
        "class_labels = list(test_generator.class_indices.keys())\n",
        "\n",
        "# convert predictions to class labels\n",
        "predicted_labels = np.argmax(predictions, axis = 1)\n",
        "true_classes = test_generator.classes\n",
        "class_lables = test_generator.classes\n",
        "\n",
        "from tensorflow.math import confusion_matrix\n",
        "cm = confusion_matrix(true_classes, predicted_labels)\n",
        "print(cm)"
      ],
      "metadata": {
        "colab": {
          "base_uri": "https://localhost:8080/"
        },
        "id": "UiT8rq3m12yd",
        "outputId": "61cd6828-2a6d-4f65-8094-6e02d4d12b07"
      },
      "execution_count": null,
      "outputs": [
        {
          "output_type": "stream",
          "name": "stdout",
          "text": [
            "225/225 [==============================] - 6s 24ms/step\n",
            "tf.Tensor(\n",
            "[[331   0   0   0   0   0   0   0   0   0   0   0   0   0   0   0   0   0\n",
            "    0   0   0   0   0   0]\n",
            " [  0 428   0   0   0   0   0   0   0   0   0   0   0   0   0   0   0   0\n",
            "    0   0   0   4   0   0]\n",
            " [  0   0 310   0   0   0   0   0   0   0   0   0   0   0   0   0   0   0\n",
            "    0   0   0   0   0   0]\n",
            " [  0   0   0 245   0   0   0   0   0   0   0   0   0   0   0   0   0   0\n",
            "    0   0   0   0   0   0]\n",
            " [  0   0   0   0 496   0   0   0   0   0   0   0   0   0   0   0   0   2\n",
            "    0   0   0   0   0   0]\n",
            " [  0   0   0   0   0 247   0   0   0   0   0   0   0   0   0   0   0   0\n",
            "    0   0   0   0   0   0]\n",
            " [  0   0   0   0   0   0 312   6   8   0   0   0   0   0   4   2   0   0\n",
            "   16   0   0   0   0   0]\n",
            " [  0   0   0   0   0   0   4 432   0   0   0   0   0   0   0   0   0   0\n",
            "    0   0   0   0   0   0]\n",
            " [  0   0   0   0   0   0   0   0 288   0   0   0   0   0   0   0   0   0\n",
            "    0   0   0   0   0   0]\n",
            " [  0   0   0   0   0   0   0   0   0 305   0   0   0   0   0   0  21   0\n",
            "    0   5   0   0   0   0]\n",
            " [  0   0   0   0   0   0   0   0   0   0 209   0   0   0   0   0   0   0\n",
            "    0   0   0   0   0   0]\n",
            " [ 30   0   0   0   0   0   0   0   0   0   0 339   2   0   0   0   0  23\n",
            "    0   0   0   0   0   0]\n",
            " [ 42   0   0   0   0   0   0   0   0   0   0  39 207   0   0   0   0   0\n",
            "    3   0   0   0   0   0]\n",
            " [  0   0   0   0   1   0   0   0   0   0   0   0   0 245   0   0   0   0\n",
            "    0   0   0   0   0   0]\n",
            " [  0   0   0   0   0   0   0   0   0   0   0   0   0   0 346   1   0   0\n",
            "    0   0   0   0   0   0]\n",
            " [  0   0   0   0   0   0   0   0   0   0   0   0   0   0   0 164   0   0\n",
            "    0   0   0   0   0   0]\n",
            " [  0   0   0   0   0   0   0   0   0   0   0   0   0   0   0   0 133   0\n",
            "    0   7   4   0   0   0]\n",
            " [  0   0   0   0   0   0   0   0   0   0   0   0   0   0   0   0   0 246\n",
            "    0   0   0   0   0   0]\n",
            " [  0   0   0   0   1   1   3  30   0   0   0   0   0   0   0   0   0   0\n",
            "  185   0   2   2  24   0]\n",
            " [  0   0   0  11   0   0   0   0   0  10   0   0   0   0   0   0   8   0\n",
            "    0 237   0   0   0   0]\n",
            " [  0   0   0   0   0   0   0   0   0   0   0   0   0   0   0   0  16   0\n",
            "    0   3 319   8   0   0]\n",
            " [  0   0   0   0   0   0   0   0   0   0   0   0   0   0   0   0   0   0\n",
            "    0   0   0 206   0   0]\n",
            " [  0   0   0   0   0   0   0   0   0   0   0   0   0   0   0   0   0   0\n",
            "    8   0   0   0 259   0]\n",
            " [  0   0   0   0   0   0   0   0   2   1   0   0   0   0   0   0   0   0\n",
            "    0   0   4  17   0 308]], shape=(24, 24), dtype=int32)\n"
          ]
        }
      ]
    },
    {
      "cell_type": "code",
      "source": [
        "img_path = input('Enter image path: ')\n",
        "\n",
        "img = cv2.imread(img_path)\n",
        "\n",
        "cv2_imshow(img)\n",
        "\n",
        "img_resized = cv2.resize(img, (28, 28))\n",
        "\n",
        "img_normalize = img_resized/255.0\n",
        "\n",
        "img_reshaped = np.reshape(img_normalize, (1, 28, 28, 3))\n",
        "\n",
        "prediction = model.predict(img_reshaped)\n",
        "\n",
        "predict_class = np.argmax(prediction)\n",
        "\n",
        "\n",
        "class_labels = {\n",
        "    0: 'A',\n",
        "    1: 'B',\n",
        "    2: 'C',\n",
        "    3: 'D',\n",
        "    4: 'E',\n",
        "    5: 'F',\n",
        "    6: 'G',\n",
        "    7: 'H',\n",
        "    8: 'I',\n",
        "    9: 'J',\n",
        "    10: 'K',\n",
        "    11: 'L',\n",
        "    12: 'M',\n",
        "    13: 'N',\n",
        "    14: 'O',\n",
        "    15: 'P',\n",
        "    16: 'Q',\n",
        "    17: 'R',\n",
        "    18: 'S',\n",
        "    19: 'T',\n",
        "    20: 'U',\n",
        "    21: 'V',\n",
        "    22: 'W',\n",
        "    23: 'X',\n",
        "    24: 'Y',\n",
        "    25: 'Z'\n",
        "}\n",
        "\n",
        "predicted_label = class_labels.get(predict_class, 'unknow')\n",
        "print(f'Predicted class is: {predicted_label}')"
      ],
      "metadata": {
        "colab": {
          "base_uri": "https://localhost:8080/",
          "height": 97
        },
        "id": "cdfHJxfq5Rxi",
        "outputId": "80cf88f9-dcb7-4217-f273-96fa263bcb33"
      },
      "execution_count": null,
      "outputs": [
        {
          "name": "stdout",
          "output_type": "stream",
          "text": [
            "Enter image path: /content/Test/A/1003_A.jpg\n"
          ]
        },
        {
          "output_type": "display_data",
          "data": {
            "text/plain": [
              "<PIL.Image.Image image mode=RGB size=28x28>"
            ],
            "image/png": "[encoded data removed]"
          },
          "metadata": {}
        },
        {
          "output_type": "stream",
          "name": "stdout",
          "text": [
            "1/1 [==============================] - 0s 25ms/step\n",
            "Predicted class is: A\n"
          ]
        }
      ]
    },
    {
      "cell_type": "code",
      "source": [],
      "metadata": {
        "id": "ZkZDP7LK9IXQ"
      },
      "execution_count": null,
      "outputs": []
    }
  ]
}